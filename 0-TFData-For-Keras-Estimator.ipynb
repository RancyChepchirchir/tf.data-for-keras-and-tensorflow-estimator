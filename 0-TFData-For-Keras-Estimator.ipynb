{
 "cells": [
  {
   "cell_type": "code",
   "execution_count": 1,
   "metadata": {},
   "outputs": [],
   "source": [
    "import numpy as np\n",
    "import matplotlib.pyplot as plt"
   ]
  },
  {
   "cell_type": "code",
   "execution_count": 2,
   "metadata": {},
   "outputs": [
    {
     "name": "stdout",
     "output_type": "stream",
     "text": [
      "1.12.0-dev20180922\n"
     ]
    }
   ],
   "source": [
    "### Make sure tf-nightly-gpu (>=1.11) should be installed if you only have TF < 1.11\n",
    "import tensorflow as tf\n",
    "import tensorflow as tf; print(tf.__version__)"
   ]
  },
  {
   "cell_type": "code",
   "execution_count": 3,
   "metadata": {},
   "outputs": [],
   "source": [
    "# Keras\n",
    "from tensorflow import keras"
   ]
  },
  {
   "cell_type": "markdown",
   "metadata": {},
   "source": [
    "### 0. Data & Model preparation"
   ]
  },
  {
   "cell_type": "code",
   "execution_count": 4,
   "metadata": {},
   "outputs": [
    {
     "name": "stdout",
     "output_type": "stream",
     "text": [
      "(60000, 28, 28) (10000, 28, 28) (60000,) (10000,)\n"
     ]
    }
   ],
   "source": [
    "# My Data\n",
    "(x_train,y_train),(x_test,y_test) = keras.datasets.mnist.load_data()\n",
    "print(x_train.shape, x_test.shape, y_train.shape, y_test.shape)"
   ]
  },
  {
   "cell_type": "code",
   "execution_count": 5,
   "metadata": {},
   "outputs": [],
   "source": [
    "# Data usually have X in float32 & Y in int32\n",
    "x_train = x_train.astype(np.float32)\n",
    "x_test = x_test.astype(np.float32)\n",
    "y_train = y_train.astype(np.int32)\n",
    "y_test = y_test.astype(np.int32)"
   ]
  },
  {
   "cell_type": "code",
   "execution_count": 6,
   "metadata": {},
   "outputs": [
    {
     "name": "stdout",
     "output_type": "stream",
     "text": [
      "60000 10000 784 10\n"
     ]
    }
   ],
   "source": [
    "nClass = 10\n",
    "nData_train = x_train.shape[0]\n",
    "nData_test = x_test.shape[0]\n",
    "nDimIn = x_train.shape[1]*x_train.shape[2]\n",
    "nDimOut = nClass\n",
    "print(nData_train, nData_test, nDimIn, nDimOut) "
   ]
  },
  {
   "cell_type": "code",
   "execution_count": 7,
   "metadata": {},
   "outputs": [],
   "source": [
    "# My Keras Model\n",
    "def myModel():\n",
    "    dataIn = keras.Input(shape=(nDimIn,), name='X')\n",
    "    fc1 = keras.layers.Dense(40, activation='relu', name='fc1')(dataIn)\n",
    "    fc2 = keras.layers.Dense(40, activation='relu', name='fc2')(fc1)\n",
    "    dataOut = keras.layers.Dense(nDimOut, activation='softmax', name='dataOut')(fc2)\n",
    "    model = keras.Model(inputs=dataIn, outputs=dataOut, name='Y')\n",
    "    return model\n",
    "batchSize = 64\n",
    "nEpoch = 5\n",
    "nSteps = (int)(nData_train/batchSize)"
   ]
  },
  {
   "cell_type": "code",
   "execution_count": 8,
   "metadata": {},
   "outputs": [],
   "source": [
    "nStep_train = (int)(nData_train/batchSize)\n",
    "nStep_test = (int)(nData_test/batchSize)"
   ]
  },
  {
   "cell_type": "code",
   "execution_count": 9,
   "metadata": {},
   "outputs": [
    {
     "name": "stdout",
     "output_type": "stream",
     "text": [
      "_________________________________________________________________\n",
      "Layer (type)                 Output Shape              Param #   \n",
      "=================================================================\n",
      "X (InputLayer)               (None, 784)               0         \n",
      "_________________________________________________________________\n",
      "fc1 (Dense)                  (None, 40)                31400     \n",
      "_________________________________________________________________\n",
      "fc2 (Dense)                  (None, 40)                1640      \n",
      "_________________________________________________________________\n",
      "dataOut (Dense)              (None, 10)                410       \n",
      "=================================================================\n",
      "Total params: 33,450\n",
      "Trainable params: 33,450\n",
      "Non-trainable params: 0\n",
      "_________________________________________________________________\n"
     ]
    }
   ],
   "source": [
    "model = myModel()\n",
    "model.summary()\n",
    "keras.backend.clear_session()"
   ]
  },
  {
   "cell_type": "markdown",
   "metadata": {},
   "source": [
    "### 1. Using Keras with tf.data from numpy data on the memory"
   ]
  },
  {
   "cell_type": "code",
   "execution_count": 10,
   "metadata": {},
   "outputs": [],
   "source": [
    "# Data preprocessing\n",
    "def myMapFunc_npy(xx, yy):\n",
    "    norm = tf.constant(255, dtype=tf.float32, shape=(nDimIn,))\n",
    "    xx = tf.div(tf.reshape(xx, [-1]), norm)\n",
    "    yy = tf.one_hot(yy, nClass)\n",
    "    return xx, yy"
   ]
  },
  {
   "cell_type": "code",
   "execution_count": 11,
   "metadata": {
    "scrolled": true
   },
   "outputs": [],
   "source": [
    "# prepare a tf.data.dataset\n",
    "data_train = tf.data.Dataset.from_tensor_slices((x_train, y_train))\n",
    "data_train = data_train.shuffle(nData_train).map(myMapFunc_npy).batch(batchSize).repeat()\n",
    "data_test = tf.data.Dataset.from_tensor_slices((x_test, y_test))\n",
    "data_test = data_test.shuffle(nData_test).map(myMapFunc_npy).batch(batchSize).repeat()"
   ]
  },
  {
   "cell_type": "code",
   "execution_count": 12,
   "metadata": {},
   "outputs": [],
   "source": [
    "model = myModel()\n",
    "model.compile(optimizer=tf.train.AdamOptimizer(0.001),loss='categorical_crossentropy',metrics=['accuracy'])"
   ]
  },
  {
   "cell_type": "code",
   "execution_count": 13,
   "metadata": {
    "scrolled": false
   },
   "outputs": [
    {
     "name": "stdout",
     "output_type": "stream",
     "text": [
      "Epoch 1/5\n",
      "937/937 [==============================] - 4s 4ms/step - loss: 0.3703 - acc: 0.8933 - val_loss: 0.2074 - val_acc: 0.9372\n",
      "Epoch 2/5\n",
      "937/937 [==============================] - 4s 4ms/step - loss: 0.1757 - acc: 0.9486 - val_loss: 0.1624 - val_acc: 0.9520\n",
      "Epoch 3/5\n",
      "937/937 [==============================] - 3s 4ms/step - loss: 0.1337 - acc: 0.9603 - val_loss: 0.1414 - val_acc: 0.9570\n",
      "Epoch 4/5\n",
      "937/937 [==============================] - 4s 4ms/step - loss: 0.1099 - acc: 0.9673 - val_loss: 0.1238 - val_acc: 0.9629\n",
      "Epoch 5/5\n",
      "937/937 [==============================] - 4s 4ms/step - loss: 0.0924 - acc: 0.9721 - val_loss: 0.1092 - val_acc: 0.9656\n"
     ]
    },
    {
     "data": {
      "text/plain": [
       "<tensorflow.python.keras.callbacks.History at 0x7f8b39ddbeb8>"
      ]
     },
     "execution_count": 13,
     "metadata": {},
     "output_type": "execute_result"
    }
   ],
   "source": [
    "model.fit(data_train, epochs=nEpoch, validation_data=data_test, steps_per_epoch=nStep_train, validation_steps=nStep_test)"
   ]
  },
  {
   "cell_type": "code",
   "execution_count": 14,
   "metadata": {},
   "outputs": [],
   "source": [
    "del data_train, data_test, model\n",
    "keras.backend.clear_session()"
   ]
  },
  {
   "cell_type": "markdown",
   "metadata": {},
   "source": [
    "### 2. Using Keras with tf.data from TFRecord files"
   ]
  },
  {
   "cell_type": "markdown",
   "metadata": {},
   "source": [
    "#### 2-1. Write a TFRecord file"
   ]
  },
  {
   "cell_type": "code",
   "execution_count": 15,
   "metadata": {},
   "outputs": [],
   "source": [
    "def _int64_feature(value):\n",
    "  return tf.train.Feature(int64_list=tf.train.Int64List(value=[value]))\n",
    "def _float_feature(array):\n",
    "  return tf.train.Feature(float_list=tf.train.FloatList(value=array))\n",
    "def _bytes_feature(value):\n",
    "  return tf.train.Feature(bytes_list=tf.train.BytesList(value=[value]))\n",
    "\n",
    "def myWriteTFRecord(filename, xx, yy):\n",
    "    writer = tf.python_io.TFRecordWriter(filename)\n",
    "    for ii in range(len(yy)):\n",
    "        myFeat = tf.train.Features(feature={\n",
    "                    'X': _float_feature(xx[ii]),\n",
    "                    'Y': _int64_feature(yy[ii])})\n",
    "        example = tf.train.Example(features=myFeat)\n",
    "        writer.write(example.SerializeToString())\n",
    "    writer.close()"
   ]
  },
  {
   "cell_type": "code",
   "execution_count": 16,
   "metadata": {},
   "outputs": [],
   "source": [
    "# Data should have 2-dim, (N*D)\n",
    "x_train_vec = x_train.reshape([nData_train,-1])\n",
    "x_test_vec = x_test.reshape([nData_test,-1])"
   ]
  },
  {
   "cell_type": "code",
   "execution_count": 17,
   "metadata": {},
   "outputs": [],
   "source": [
    "myWriteTFRecord('mnist_train.tfrecords', x_train_vec, y_train)\n",
    "myWriteTFRecord('mnist_test.tfrecords', x_test_vec, y_test)"
   ]
  },
  {
   "cell_type": "markdown",
   "metadata": {},
   "source": [
    "#### 2-2. Training from the TFRecord files"
   ]
  },
  {
   "cell_type": "code",
   "execution_count": 18,
   "metadata": {},
   "outputs": [],
   "source": [
    "# Data preprocessing\n",
    "def myMapFunc_onehot(example):\n",
    "    feature_def = {'X': tf.FixedLenFeature(nDimIn, tf.float32),\n",
    "                   'Y': tf.FixedLenFeature(1, tf.int64)}\n",
    "    features = tf.parse_single_example(example, feature_def)\n",
    "    norm = tf.constant(255, dtype=tf.float32, shape=(nDimIn,))\n",
    "    xx = tf.div(features['X'], norm)\n",
    "    yy = tf.reshape(tf.one_hot(features['Y'], nClass, dtype=tf.float32), [-1])\n",
    "    return xx, yy"
   ]
  },
  {
   "cell_type": "code",
   "execution_count": 19,
   "metadata": {},
   "outputs": [],
   "source": [
    "# prepare a tf.data.dataset\n",
    "data_train = tf.data.TFRecordDataset('mnist_train.tfrecords')\n",
    "data_train = data_train.shuffle(nData_train).map(myMapFunc_onehot).batch(batchSize).repeat()\n",
    "data_test = tf.data.TFRecordDataset('mnist_test.tfrecords')\n",
    "data_test = data_test.shuffle(nData_test).map(myMapFunc_onehot).batch(batchSize).repeat()"
   ]
  },
  {
   "cell_type": "code",
   "execution_count": 20,
   "metadata": {},
   "outputs": [],
   "source": [
    "model = myModel()\n",
    "model.compile(optimizer=tf.train.AdamOptimizer(0.001),loss='categorical_crossentropy',metrics=['accuracy'])"
   ]
  },
  {
   "cell_type": "code",
   "execution_count": 21,
   "metadata": {},
   "outputs": [
    {
     "name": "stdout",
     "output_type": "stream",
     "text": [
      "Epoch 1/5\n",
      "937/937 [==============================] - 4s 5ms/step - loss: 0.3756 - acc: 0.8916 - val_loss: 0.1961 - val_acc: 0.9409\n",
      "Epoch 2/5\n",
      "937/937 [==============================] - 4s 4ms/step - loss: 0.1727 - acc: 0.9500 - val_loss: 0.1474 - val_acc: 0.9561\n",
      "Epoch 3/5\n",
      "937/937 [==============================] - 4s 4ms/step - loss: 0.1320 - acc: 0.9615 - val_loss: 0.1308 - val_acc: 0.9610\n",
      "Epoch 4/5\n",
      "937/937 [==============================] - 4s 4ms/step - loss: 0.1094 - acc: 0.9670 - val_loss: 0.1173 - val_acc: 0.9638\n",
      "Epoch 5/5\n",
      "937/937 [==============================] - 4s 4ms/step - loss: 0.0943 - acc: 0.9713 - val_loss: 0.1140 - val_acc: 0.9664\n"
     ]
    },
    {
     "data": {
      "text/plain": [
       "<tensorflow.python.keras.callbacks.History at 0x7f8b14ed6c18>"
      ]
     },
     "execution_count": 21,
     "metadata": {},
     "output_type": "execute_result"
    }
   ],
   "source": [
    "model.fit(data_train, epochs=nEpoch, validation_data=data_test, steps_per_epoch=nStep_train, validation_steps=nStep_test)"
   ]
  },
  {
   "cell_type": "code",
   "execution_count": 22,
   "metadata": {},
   "outputs": [],
   "source": [
    "del data_train, data_test, model\n",
    "keras.backend.clear_session()"
   ]
  },
  {
   "cell_type": "code",
   "execution_count": null,
   "metadata": {},
   "outputs": [],
   "source": []
  },
  {
   "cell_type": "markdown",
   "metadata": {},
   "source": [
    "### 3. Using a pre-made estimator with tf.data from TFRecord files"
   ]
  },
  {
   "cell_type": "code",
   "execution_count": 23,
   "metadata": {},
   "outputs": [
    {
     "name": "stdout",
     "output_type": "stream",
     "text": [
      "937 156\n"
     ]
    }
   ],
   "source": [
    "print(nStep_train, nStep_test)"
   ]
  },
  {
   "cell_type": "code",
   "execution_count": 24,
   "metadata": {},
   "outputs": [],
   "source": [
    "# Data preprocessing\n",
    "def myMapFunc_scalar(example):\n",
    "    feature_def = {'X': tf.FixedLenFeature(nDimIn, tf.float32),\n",
    "                   'Y': tf.FixedLenFeature(1, tf.int64)}\n",
    "    features = tf.parse_single_example(example, feature_def)\n",
    "    norm = tf.constant(255, dtype=tf.float32, shape=(nDimIn,))\n",
    "    xx = tf.div(features['X'], norm)\n",
    "    yy = features['Y']\n",
    "    return {'X': xx}, yy"
   ]
  },
  {
   "cell_type": "code",
   "execution_count": 25,
   "metadata": {},
   "outputs": [],
   "source": [
    "def myInputFunc_scalar(filename,numData):\n",
    "    data_temp = tf.data.TFRecordDataset(filename)\n",
    "    data_temp = data_temp.shuffle(buffer_size=numData).map(myMapFunc_scalar).batch(batchSize).repeat()\n",
    "    return data_temp"
   ]
  },
  {
   "cell_type": "code",
   "execution_count": 26,
   "metadata": {
    "scrolled": true
   },
   "outputs": [
    {
     "name": "stdout",
     "output_type": "stream",
     "text": [
      "INFO:tensorflow:Using default config.\n",
      "WARNING:tensorflow:Using temporary folder as model directory: /tmp/tmp2mwkmeza\n",
      "INFO:tensorflow:Using config: {'_model_dir': '/tmp/tmp2mwkmeza', '_tf_random_seed': None, '_save_summary_steps': 100, '_save_checkpoints_steps': None, '_save_checkpoints_secs': 600, '_session_config': allow_soft_placement: true\n",
      "graph_options {\n",
      "  rewrite_options {\n",
      "    meta_optimizer_iterations: ONE\n",
      "  }\n",
      "}\n",
      ", '_keep_checkpoint_max': 5, '_keep_checkpoint_every_n_hours': 10000, '_log_step_count_steps': 100, '_train_distribute': None, '_device_fn': None, '_protocol': None, '_eval_distribute': None, '_experimental_distribute': None, '_service': None, '_cluster_spec': <tensorflow.python.training.server_lib.ClusterSpec object at 0x7f8afe7ea278>, '_task_type': 'worker', '_task_id': 0, '_global_id_in_cluster': 0, '_master': '', '_evaluation_master': '', '_is_chief': True, '_num_ps_replicas': 0, '_num_worker_replicas': 1}\n"
     ]
    }
   ],
   "source": [
    "feature_columns = [tf.feature_column.numeric_column('X', shape=[784,])]\n",
    "estimator = tf.estimator.DNNClassifier(\n",
    " feature_columns=feature_columns,\n",
    " hidden_units=[40, 40],\n",
    " optimizer=tf.train.AdamOptimizer(0.001),\n",
    " n_classes=10,\n",
    ")"
   ]
  },
  {
   "cell_type": "code",
   "execution_count": 27,
   "metadata": {
    "scrolled": true
   },
   "outputs": [
    {
     "name": "stdout",
     "output_type": "stream",
     "text": [
      "INFO:tensorflow:Calling model_fn.\n",
      "INFO:tensorflow:Done calling model_fn.\n",
      "INFO:tensorflow:Create CheckpointSaverHook.\n",
      "INFO:tensorflow:Graph was finalized.\n",
      "INFO:tensorflow:Running local_init_op.\n",
      "INFO:tensorflow:Done running local_init_op.\n",
      "INFO:tensorflow:Saving checkpoints for 0 into /tmp/tmp2mwkmeza/model.ckpt.\n",
      "INFO:tensorflow:loss = 153.49512, step = 0\n",
      "INFO:tensorflow:global_step/sec: 273.049\n",
      "INFO:tensorflow:loss = 46.73066, step = 100 (0.367 sec)\n",
      "INFO:tensorflow:global_step/sec: 302.738\n",
      "INFO:tensorflow:loss = 18.384815, step = 200 (0.330 sec)\n",
      "INFO:tensorflow:global_step/sec: 295.827\n",
      "INFO:tensorflow:loss = 32.845802, step = 300 (0.338 sec)\n",
      "INFO:tensorflow:global_step/sec: 296.888\n",
      "INFO:tensorflow:loss = 11.968971, step = 400 (0.337 sec)\n",
      "INFO:tensorflow:global_step/sec: 291.616\n",
      "INFO:tensorflow:loss = 13.4842415, step = 500 (0.343 sec)\n",
      "INFO:tensorflow:global_step/sec: 305.706\n",
      "INFO:tensorflow:loss = 10.849707, step = 600 (0.327 sec)\n",
      "INFO:tensorflow:global_step/sec: 297.751\n",
      "INFO:tensorflow:loss = 31.054974, step = 700 (0.336 sec)\n",
      "INFO:tensorflow:global_step/sec: 284.817\n",
      "INFO:tensorflow:loss = 13.200074, step = 800 (0.352 sec)\n",
      "INFO:tensorflow:global_step/sec: 294.767\n",
      "INFO:tensorflow:loss = 29.491844, step = 900 (0.339 sec)\n",
      "INFO:tensorflow:global_step/sec: 241.166\n",
      "INFO:tensorflow:loss = 6.0607123, step = 1000 (0.415 sec)\n",
      "INFO:tensorflow:global_step/sec: 307.452\n",
      "INFO:tensorflow:loss = 9.64162, step = 1100 (0.325 sec)\n",
      "INFO:tensorflow:global_step/sec: 309.469\n",
      "INFO:tensorflow:loss = 18.48162, step = 1200 (0.323 sec)\n",
      "INFO:tensorflow:global_step/sec: 299.633\n",
      "INFO:tensorflow:loss = 10.829228, step = 1300 (0.334 sec)\n",
      "INFO:tensorflow:global_step/sec: 305.878\n",
      "INFO:tensorflow:loss = 16.810215, step = 1400 (0.327 sec)\n",
      "INFO:tensorflow:global_step/sec: 319.414\n",
      "INFO:tensorflow:loss = 5.055893, step = 1500 (0.313 sec)\n",
      "INFO:tensorflow:global_step/sec: 289.103\n",
      "INFO:tensorflow:loss = 14.92119, step = 1600 (0.346 sec)\n",
      "INFO:tensorflow:global_step/sec: 292.45\n",
      "INFO:tensorflow:loss = 5.5409408, step = 1700 (0.342 sec)\n",
      "INFO:tensorflow:global_step/sec: 291.171\n",
      "INFO:tensorflow:loss = 4.1527333, step = 1800 (0.343 sec)\n",
      "INFO:tensorflow:global_step/sec: 236.602\n",
      "INFO:tensorflow:loss = 9.764228, step = 1900 (0.423 sec)\n",
      "INFO:tensorflow:global_step/sec: 317.763\n",
      "INFO:tensorflow:loss = 10.831085, step = 2000 (0.315 sec)\n",
      "INFO:tensorflow:global_step/sec: 303.191\n",
      "INFO:tensorflow:loss = 13.082005, step = 2100 (0.330 sec)\n",
      "INFO:tensorflow:global_step/sec: 306.822\n",
      "INFO:tensorflow:loss = 7.587046, step = 2200 (0.326 sec)\n",
      "INFO:tensorflow:global_step/sec: 296.084\n",
      "INFO:tensorflow:loss = 3.5846748, step = 2300 (0.337 sec)\n",
      "INFO:tensorflow:global_step/sec: 298.514\n",
      "INFO:tensorflow:loss = 9.932044, step = 2400 (0.335 sec)\n",
      "INFO:tensorflow:global_step/sec: 307.756\n",
      "INFO:tensorflow:loss = 10.9658375, step = 2500 (0.325 sec)\n",
      "INFO:tensorflow:global_step/sec: 295.679\n",
      "INFO:tensorflow:loss = 4.14511, step = 2600 (0.338 sec)\n",
      "INFO:tensorflow:global_step/sec: 311.664\n",
      "INFO:tensorflow:loss = 5.337727, step = 2700 (0.321 sec)\n",
      "INFO:tensorflow:global_step/sec: 283.91\n",
      "INFO:tensorflow:loss = 10.253752, step = 2800 (0.352 sec)\n",
      "INFO:tensorflow:global_step/sec: 238.94\n",
      "INFO:tensorflow:loss = 3.9768322, step = 2900 (0.418 sec)\n",
      "INFO:tensorflow:global_step/sec: 308.204\n",
      "INFO:tensorflow:loss = 5.2907195, step = 3000 (0.325 sec)\n",
      "INFO:tensorflow:global_step/sec: 305.853\n",
      "INFO:tensorflow:loss = 6.5136576, step = 3100 (0.327 sec)\n",
      "INFO:tensorflow:global_step/sec: 297.525\n",
      "INFO:tensorflow:loss = 2.7139397, step = 3200 (0.336 sec)\n",
      "INFO:tensorflow:global_step/sec: 299.029\n",
      "INFO:tensorflow:loss = 8.137808, step = 3300 (0.335 sec)\n",
      "INFO:tensorflow:global_step/sec: 290.739\n",
      "INFO:tensorflow:loss = 10.745379, step = 3400 (0.344 sec)\n",
      "INFO:tensorflow:global_step/sec: 300.989\n",
      "INFO:tensorflow:loss = 5.46703, step = 3500 (0.332 sec)\n",
      "INFO:tensorflow:global_step/sec: 293.409\n",
      "INFO:tensorflow:loss = 1.610533, step = 3600 (0.341 sec)\n",
      "INFO:tensorflow:global_step/sec: 298.645\n",
      "INFO:tensorflow:loss = 5.187735, step = 3700 (0.335 sec)\n",
      "INFO:tensorflow:global_step/sec: 246.048\n",
      "INFO:tensorflow:loss = 2.1100817, step = 3800 (0.406 sec)\n",
      "INFO:tensorflow:global_step/sec: 307.987\n",
      "INFO:tensorflow:loss = 14.154173, step = 3900 (0.326 sec)\n",
      "INFO:tensorflow:global_step/sec: 296.839\n",
      "INFO:tensorflow:loss = 4.4157944, step = 4000 (0.335 sec)\n",
      "INFO:tensorflow:global_step/sec: 306.392\n",
      "INFO:tensorflow:loss = 8.192386, step = 4100 (0.326 sec)\n",
      "INFO:tensorflow:global_step/sec: 299.618\n",
      "INFO:tensorflow:loss = 3.7017536, step = 4200 (0.334 sec)\n",
      "INFO:tensorflow:global_step/sec: 293.835\n",
      "INFO:tensorflow:loss = 1.4941697, step = 4300 (0.341 sec)\n",
      "INFO:tensorflow:global_step/sec: 280.09\n",
      "INFO:tensorflow:loss = 5.190408, step = 4400 (0.356 sec)\n",
      "INFO:tensorflow:global_step/sec: 293.557\n",
      "INFO:tensorflow:loss = 2.8344736, step = 4500 (0.341 sec)\n",
      "INFO:tensorflow:global_step/sec: 296.753\n",
      "INFO:tensorflow:loss = 5.980152, step = 4600 (0.337 sec)\n",
      "INFO:tensorflow:Saving checkpoints for 4685 into /tmp/tmp2mwkmeza/model.ckpt.\n",
      "INFO:tensorflow:Loss for final step: 4.268051.\n"
     ]
    },
    {
     "data": {
      "text/plain": [
       "<tensorflow.python.estimator.canned.dnn.DNNClassifier at 0x7f8b143eb470>"
      ]
     },
     "execution_count": 27,
     "metadata": {},
     "output_type": "execute_result"
    }
   ],
   "source": [
    "estimator.train(input_fn=lambda:myInputFunc_scalar('mnist_train.tfrecords',nData_train), steps=nStep_train*nEpoch)"
   ]
  },
  {
   "cell_type": "code",
   "execution_count": 28,
   "metadata": {},
   "outputs": [
    {
     "name": "stdout",
     "output_type": "stream",
     "text": [
      "INFO:tensorflow:Calling model_fn.\n",
      "INFO:tensorflow:Done calling model_fn.\n",
      "INFO:tensorflow:Starting evaluation at 2018-09-23-21:39:50\n",
      "INFO:tensorflow:Graph was finalized.\n",
      "INFO:tensorflow:Restoring parameters from /tmp/tmp2mwkmeza/model.ckpt-4685\n",
      "INFO:tensorflow:Running local_init_op.\n",
      "INFO:tensorflow:Done running local_init_op.\n",
      "INFO:tensorflow:Evaluation [15/156]\n",
      "INFO:tensorflow:Evaluation [30/156]\n",
      "INFO:tensorflow:Evaluation [45/156]\n",
      "INFO:tensorflow:Evaluation [60/156]\n",
      "INFO:tensorflow:Evaluation [75/156]\n",
      "INFO:tensorflow:Evaluation [90/156]\n",
      "INFO:tensorflow:Evaluation [105/156]\n",
      "INFO:tensorflow:Evaluation [120/156]\n",
      "INFO:tensorflow:Evaluation [135/156]\n",
      "INFO:tensorflow:Evaluation [150/156]\n",
      "INFO:tensorflow:Evaluation [156/156]\n",
      "INFO:tensorflow:Finished evaluation at 2018-09-23-21:39:50\n",
      "INFO:tensorflow:Saving dict for global step 4685: accuracy = 0.96644634, average_loss = 0.10984011, global_step = 4685, loss = 7.029767\n",
      "INFO:tensorflow:Saving 'checkpoint_path' summary for global step 4685: /tmp/tmp2mwkmeza/model.ckpt-4685\n"
     ]
    }
   ],
   "source": [
    "eval_result_1 = estimator.evaluate(input_fn=lambda:myInputFunc_scalar('mnist_test.tfrecords',nData_test), steps=nStep_test)"
   ]
  },
  {
   "cell_type": "code",
   "execution_count": 29,
   "metadata": {},
   "outputs": [
    {
     "name": "stdout",
     "output_type": "stream",
     "text": [
      "{'accuracy': 0.96644634, 'average_loss': 0.10984011, 'loss': 7.029767, 'global_step': 4685}\n"
     ]
    }
   ],
   "source": [
    "print(eval_result_1)"
   ]
  },
  {
   "cell_type": "code",
   "execution_count": null,
   "metadata": {},
   "outputs": [],
   "source": []
  },
  {
   "cell_type": "markdown",
   "metadata": {},
   "source": [
    "### 4. Using an estimator from a Keras model with tf.data from TFRecord files"
   ]
  },
  {
   "cell_type": "code",
   "execution_count": 31,
   "metadata": {},
   "outputs": [],
   "source": [
    "# Data preprocessing\n",
    "def myMapFunc_onehot(example):\n",
    "    feature_def = {'X': tf.FixedLenFeature(nDimIn, tf.float32),\n",
    "                   'Y': tf.FixedLenFeature(1, tf.int64)}\n",
    "    features = tf.parse_single_example(example, feature_def)\n",
    "    norm = tf.constant(255, dtype=tf.float32, shape=(nDimIn,))\n",
    "    xx = tf.div(features['X'], norm)\n",
    "    yy = tf.reshape(tf.one_hot(features['Y'], nClass, dtype=tf.float32), [-1])\n",
    "    return xx, yy"
   ]
  },
  {
   "cell_type": "code",
   "execution_count": 32,
   "metadata": {},
   "outputs": [],
   "source": [
    "def myInputFunc_onehot(filename,numData):\n",
    "    data_temp = tf.data.TFRecordDataset(filename)\n",
    "    data_temp = data_temp.shuffle(buffer_size=numData).map(myMapFunc_onehot).batch(batchSize).repeat()\n",
    "    return data_temp"
   ]
  },
  {
   "cell_type": "code",
   "execution_count": 33,
   "metadata": {},
   "outputs": [
    {
     "name": "stdout",
     "output_type": "stream",
     "text": [
      "INFO:tensorflow:Using the Keras model provided.\n",
      "INFO:tensorflow:Using default config.\n",
      "WARNING:tensorflow:Using temporary folder as model directory: /tmp/tmpzbt75jtt\n",
      "INFO:tensorflow:Using config: {'_model_dir': '/tmp/tmpzbt75jtt', '_tf_random_seed': None, '_save_summary_steps': 100, '_save_checkpoints_steps': None, '_save_checkpoints_secs': 600, '_session_config': allow_soft_placement: true\n",
      "graph_options {\n",
      "  rewrite_options {\n",
      "    meta_optimizer_iterations: ONE\n",
      "  }\n",
      "}\n",
      ", '_keep_checkpoint_max': 5, '_keep_checkpoint_every_n_hours': 10000, '_log_step_count_steps': 100, '_train_distribute': None, '_device_fn': None, '_protocol': None, '_eval_distribute': None, '_experimental_distribute': None, '_service': None, '_cluster_spec': <tensorflow.python.training.server_lib.ClusterSpec object at 0x7f8817f93a20>, '_task_type': 'worker', '_task_id': 0, '_global_id_in_cluster': 0, '_master': '', '_evaluation_master': '', '_is_chief': True, '_num_ps_replicas': 0, '_num_worker_replicas': 1}\n"
     ]
    }
   ],
   "source": [
    "model = myModel()\n",
    "model.compile(optimizer=tf.train.AdamOptimizer(0.001),loss='categorical_crossentropy',metrics=['accuracy'])\n",
    "estimator = keras.estimator.model_to_estimator(model)"
   ]
  },
  {
   "cell_type": "code",
   "execution_count": 35,
   "metadata": {
    "scrolled": true
   },
   "outputs": [
    {
     "name": "stdout",
     "output_type": "stream",
     "text": [
      "INFO:tensorflow:Calling model_fn.\n",
      "INFO:tensorflow:Done calling model_fn.\n",
      "INFO:tensorflow:Warm-starting with WarmStartSettings: WarmStartSettings(ckpt_to_initialize_from='/tmp/tmpzbt75jtt/keras/keras_model.ckpt', vars_to_warm_start='.*', var_name_to_vocab_info={}, var_name_to_prev_var_name={})\n",
      "INFO:tensorflow:Warm-starting from: ('/tmp/tmpzbt75jtt/keras/keras_model.ckpt',)\n",
      "INFO:tensorflow:Warm-starting variable: fc1/kernel; prev_var_name: Unchanged\n",
      "INFO:tensorflow:Warm-starting variable: fc1/bias; prev_var_name: Unchanged\n",
      "INFO:tensorflow:Warm-starting variable: fc2/kernel; prev_var_name: Unchanged\n",
      "INFO:tensorflow:Warm-starting variable: fc2/bias; prev_var_name: Unchanged\n",
      "INFO:tensorflow:Warm-starting variable: dataOut/kernel; prev_var_name: Unchanged\n",
      "INFO:tensorflow:Warm-starting variable: dataOut/bias; prev_var_name: Unchanged\n",
      "INFO:tensorflow:Create CheckpointSaverHook.\n",
      "INFO:tensorflow:Graph was finalized.\n",
      "INFO:tensorflow:Running local_init_op.\n",
      "INFO:tensorflow:Done running local_init_op.\n",
      "INFO:tensorflow:Saving checkpoints for 0 into /tmp/tmpzbt75jtt/model.ckpt.\n",
      "INFO:tensorflow:loss = 2.3865695, step = 0\n",
      "INFO:tensorflow:global_step/sec: 248.672\n",
      "INFO:tensorflow:loss = 0.59388673, step = 100 (0.403 sec)\n",
      "INFO:tensorflow:global_step/sec: 281.389\n",
      "INFO:tensorflow:loss = 0.39106914, step = 200 (0.355 sec)\n",
      "INFO:tensorflow:global_step/sec: 277.973\n",
      "INFO:tensorflow:loss = 0.20138796, step = 300 (0.360 sec)\n",
      "INFO:tensorflow:global_step/sec: 272.547\n",
      "INFO:tensorflow:loss = 0.28543544, step = 400 (0.367 sec)\n",
      "INFO:tensorflow:global_step/sec: 271.335\n",
      "INFO:tensorflow:loss = 0.22625796, step = 500 (0.369 sec)\n",
      "INFO:tensorflow:global_step/sec: 273.559\n",
      "INFO:tensorflow:loss = 0.37876198, step = 600 (0.366 sec)\n",
      "INFO:tensorflow:global_step/sec: 280.497\n",
      "INFO:tensorflow:loss = 0.21227108, step = 700 (0.356 sec)\n",
      "INFO:tensorflow:global_step/sec: 275.456\n",
      "INFO:tensorflow:loss = 0.21813285, step = 800 (0.363 sec)\n",
      "INFO:tensorflow:global_step/sec: 258.472\n",
      "INFO:tensorflow:loss = 0.12106958, step = 900 (0.387 sec)\n",
      "INFO:tensorflow:global_step/sec: 217.755\n",
      "INFO:tensorflow:loss = 0.22676718, step = 1000 (0.459 sec)\n",
      "INFO:tensorflow:global_step/sec: 271.295\n",
      "INFO:tensorflow:loss = 0.038120575, step = 1100 (0.369 sec)\n",
      "INFO:tensorflow:global_step/sec: 265.826\n",
      "INFO:tensorflow:loss = 0.31208763, step = 1200 (0.377 sec)\n",
      "INFO:tensorflow:global_step/sec: 282.3\n",
      "INFO:tensorflow:loss = 0.178807, step = 1300 (0.354 sec)\n",
      "INFO:tensorflow:global_step/sec: 271.607\n",
      "INFO:tensorflow:loss = 0.32422858, step = 1400 (0.368 sec)\n",
      "INFO:tensorflow:global_step/sec: 276.108\n",
      "INFO:tensorflow:loss = 0.2405651, step = 1500 (0.364 sec)\n",
      "INFO:tensorflow:global_step/sec: 267.497\n",
      "INFO:tensorflow:loss = 0.08295314, step = 1600 (0.372 sec)\n",
      "INFO:tensorflow:global_step/sec: 277.242\n",
      "INFO:tensorflow:loss = 0.24555373, step = 1700 (0.360 sec)\n",
      "INFO:tensorflow:global_step/sec: 278.987\n",
      "INFO:tensorflow:loss = 0.1018118, step = 1800 (0.358 sec)\n",
      "INFO:tensorflow:global_step/sec: 227.565\n",
      "INFO:tensorflow:loss = 0.2965111, step = 1900 (0.439 sec)\n",
      "INFO:tensorflow:global_step/sec: 281.824\n",
      "INFO:tensorflow:loss = 0.27069587, step = 2000 (0.355 sec)\n",
      "INFO:tensorflow:global_step/sec: 291.177\n",
      "INFO:tensorflow:loss = 0.17689735, step = 2100 (0.343 sec)\n",
      "INFO:tensorflow:global_step/sec: 278.223\n",
      "INFO:tensorflow:loss = 0.1629208, step = 2200 (0.360 sec)\n",
      "INFO:tensorflow:global_step/sec: 289.123\n",
      "INFO:tensorflow:loss = 0.11057532, step = 2300 (0.346 sec)\n",
      "INFO:tensorflow:global_step/sec: 286.55\n",
      "INFO:tensorflow:loss = 0.042966362, step = 2400 (0.349 sec)\n",
      "INFO:tensorflow:global_step/sec: 284.817\n",
      "INFO:tensorflow:loss = 0.16683218, step = 2500 (0.351 sec)\n",
      "INFO:tensorflow:global_step/sec: 292.507\n",
      "INFO:tensorflow:loss = 0.28244245, step = 2600 (0.342 sec)\n",
      "INFO:tensorflow:global_step/sec: 276.728\n",
      "INFO:tensorflow:loss = 0.25956213, step = 2700 (0.361 sec)\n",
      "INFO:tensorflow:global_step/sec: 292.213\n",
      "INFO:tensorflow:loss = 0.17902353, step = 2800 (0.342 sec)\n",
      "INFO:tensorflow:global_step/sec: 227.957\n",
      "INFO:tensorflow:loss = 0.1530095, step = 2900 (0.439 sec)\n",
      "INFO:tensorflow:global_step/sec: 286.888\n",
      "INFO:tensorflow:loss = 0.17777744, step = 3000 (0.348 sec)\n",
      "INFO:tensorflow:global_step/sec: 286.158\n",
      "INFO:tensorflow:loss = 0.11020623, step = 3100 (0.349 sec)\n",
      "INFO:tensorflow:global_step/sec: 275.565\n",
      "INFO:tensorflow:loss = 0.123229444, step = 3200 (0.363 sec)\n",
      "INFO:tensorflow:global_step/sec: 280.857\n",
      "INFO:tensorflow:loss = 0.088626176, step = 3300 (0.356 sec)\n",
      "INFO:tensorflow:global_step/sec: 285.536\n",
      "INFO:tensorflow:loss = 0.028177068, step = 3400 (0.350 sec)\n",
      "INFO:tensorflow:global_step/sec: 272.065\n",
      "INFO:tensorflow:loss = 0.043042988, step = 3500 (0.367 sec)\n",
      "INFO:tensorflow:global_step/sec: 278.345\n",
      "INFO:tensorflow:loss = 0.06443577, step = 3600 (0.360 sec)\n",
      "INFO:tensorflow:global_step/sec: 278.33\n",
      "INFO:tensorflow:loss = 0.12465684, step = 3700 (0.359 sec)\n",
      "INFO:tensorflow:global_step/sec: 224.174\n",
      "INFO:tensorflow:loss = 0.027299408, step = 3800 (0.446 sec)\n",
      "INFO:tensorflow:global_step/sec: 285.508\n",
      "INFO:tensorflow:loss = 0.07444664, step = 3900 (0.350 sec)\n",
      "INFO:tensorflow:global_step/sec: 278.557\n",
      "INFO:tensorflow:loss = 0.19539182, step = 4000 (0.359 sec)\n",
      "INFO:tensorflow:global_step/sec: 286.319\n",
      "INFO:tensorflow:loss = 0.09723196, step = 4100 (0.349 sec)\n",
      "INFO:tensorflow:global_step/sec: 276.287\n",
      "INFO:tensorflow:loss = 0.14479557, step = 4200 (0.362 sec)\n",
      "INFO:tensorflow:global_step/sec: 275.887\n",
      "INFO:tensorflow:loss = 0.046204187, step = 4300 (0.363 sec)\n",
      "INFO:tensorflow:global_step/sec: 281.593\n",
      "INFO:tensorflow:loss = 0.015197289, step = 4400 (0.355 sec)\n",
      "INFO:tensorflow:global_step/sec: 281.039\n",
      "INFO:tensorflow:loss = 0.043314554, step = 4500 (0.356 sec)\n",
      "INFO:tensorflow:global_step/sec: 291.623\n",
      "INFO:tensorflow:loss = 0.046203647, step = 4600 (0.343 sec)\n",
      "INFO:tensorflow:Saving checkpoints for 4685 into /tmp/tmpzbt75jtt/model.ckpt.\n",
      "INFO:tensorflow:Loss for final step: 0.15891826.\n"
     ]
    },
    {
     "data": {
      "text/plain": [
       "<tensorflow.python.estimator.estimator.Estimator at 0x7f881464ddd8>"
      ]
     },
     "execution_count": 35,
     "metadata": {},
     "output_type": "execute_result"
    }
   ],
   "source": [
    "estimator.train(input_fn=lambda:myInputFunc_onehot('mnist_train.tfrecords',nData_train), steps=nStep_train*nEpoch)"
   ]
  },
  {
   "cell_type": "code",
   "execution_count": 37,
   "metadata": {
    "scrolled": true
   },
   "outputs": [
    {
     "name": "stdout",
     "output_type": "stream",
     "text": [
      "INFO:tensorflow:Calling model_fn.\n",
      "INFO:tensorflow:Done calling model_fn.\n",
      "INFO:tensorflow:Starting evaluation at 2018-09-23-21:40:41\n",
      "INFO:tensorflow:Graph was finalized.\n",
      "INFO:tensorflow:Restoring parameters from /tmp/tmpzbt75jtt/model.ckpt-4685\n",
      "INFO:tensorflow:Running local_init_op.\n",
      "INFO:tensorflow:Done running local_init_op.\n",
      "INFO:tensorflow:Evaluation [15/156]\n",
      "INFO:tensorflow:Evaluation [30/156]\n",
      "INFO:tensorflow:Evaluation [45/156]\n",
      "INFO:tensorflow:Evaluation [60/156]\n",
      "INFO:tensorflow:Evaluation [75/156]\n",
      "INFO:tensorflow:Evaluation [90/156]\n",
      "INFO:tensorflow:Evaluation [105/156]\n",
      "INFO:tensorflow:Evaluation [120/156]\n",
      "INFO:tensorflow:Evaluation [135/156]\n",
      "INFO:tensorflow:Evaluation [150/156]\n",
      "INFO:tensorflow:Evaluation [156/156]\n",
      "INFO:tensorflow:Finished evaluation at 2018-09-23-21:40:42\n",
      "INFO:tensorflow:Saving dict for global step 4685: accuracy = 0.9629407, global_step = 4685, loss = 0.12257116\n",
      "INFO:tensorflow:Saving 'checkpoint_path' summary for global step 4685: /tmp/tmpzbt75jtt/model.ckpt-4685\n"
     ]
    }
   ],
   "source": [
    "eval_result_2 = estimator.evaluate(input_fn=lambda:myInputFunc_onehot('mnist_test.tfrecords', nData_test), steps=nStep_test)"
   ]
  },
  {
   "cell_type": "code",
   "execution_count": 38,
   "metadata": {
    "scrolled": true
   },
   "outputs": [
    {
     "name": "stdout",
     "output_type": "stream",
     "text": [
      "{'accuracy': 0.9629407, 'loss': 0.12257116, 'global_step': 4685}\n"
     ]
    }
   ],
   "source": [
    "print(eval_result_2)"
   ]
  }
 ],
 "metadata": {
  "kernelspec": {
   "display_name": "Python 3",
   "language": "python",
   "name": "python3"
  },
  "language_info": {
   "codemirror_mode": {
    "name": "ipython",
    "version": 3
   },
   "file_extension": ".py",
   "mimetype": "text/x-python",
   "name": "python",
   "nbconvert_exporter": "python",
   "pygments_lexer": "ipython3",
   "version": "3.6.6"
  }
 },
 "nbformat": 4,
 "nbformat_minor": 2
}
